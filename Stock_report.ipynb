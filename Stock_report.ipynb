{
 "cells": [
  {
   "cell_type": "code",
   "execution_count": 31,
   "metadata": {},
   "outputs": [],
   "source": [
    "# pip install yfinance"
   ]
  },
  {
   "cell_type": "code",
   "execution_count": 32,
   "metadata": {},
   "outputs": [],
   "source": [
    "import yfinance as yf\n",
    "import pandas as pd\n",
    "import numpy as np\n",
    "import math "
   ]
  },
  {
   "cell_type": "code",
   "execution_count": 33,
   "metadata": {},
   "outputs": [
    {
     "data": {
      "text/html": [
       "<div>\n",
       "<style scoped>\n",
       "    .dataframe tbody tr th:only-of-type {\n",
       "        vertical-align: middle;\n",
       "    }\n",
       "\n",
       "    .dataframe tbody tr th {\n",
       "        vertical-align: top;\n",
       "    }\n",
       "\n",
       "    .dataframe thead th {\n",
       "        text-align: right;\n",
       "    }\n",
       "</style>\n",
       "<table border=\"1\" class=\"dataframe\">\n",
       "  <thead>\n",
       "    <tr style=\"text-align: right;\">\n",
       "      <th></th>\n",
       "      <th>Open</th>\n",
       "      <th>High</th>\n",
       "      <th>Low</th>\n",
       "      <th>Close</th>\n",
       "      <th>Volume</th>\n",
       "      <th>Dividends</th>\n",
       "      <th>Stock Splits</th>\n",
       "    </tr>\n",
       "    <tr>\n",
       "      <th>Date</th>\n",
       "      <th></th>\n",
       "      <th></th>\n",
       "      <th></th>\n",
       "      <th></th>\n",
       "      <th></th>\n",
       "      <th></th>\n",
       "      <th></th>\n",
       "    </tr>\n",
       "  </thead>\n",
       "  <tbody>\n",
       "    <tr>\n",
       "      <th>2021-10-08</th>\n",
       "      <td>16.53</td>\n",
       "      <td>16.65</td>\n",
       "      <td>16.17</td>\n",
       "      <td>16.21</td>\n",
       "      <td>11010000</td>\n",
       "      <td>0</td>\n",
       "      <td>0</td>\n",
       "    </tr>\n",
       "    <tr>\n",
       "      <th>2021-10-11</th>\n",
       "      <td>16.90</td>\n",
       "      <td>18.51</td>\n",
       "      <td>16.83</td>\n",
       "      <td>18.39</td>\n",
       "      <td>69669600</td>\n",
       "      <td>0</td>\n",
       "      <td>0</td>\n",
       "    </tr>\n",
       "    <tr>\n",
       "      <th>2021-10-12</th>\n",
       "      <td>18.17</td>\n",
       "      <td>19.02</td>\n",
       "      <td>17.84</td>\n",
       "      <td>18.97</td>\n",
       "      <td>47239700</td>\n",
       "      <td>0</td>\n",
       "      <td>0</td>\n",
       "    </tr>\n",
       "    <tr>\n",
       "      <th>2021-10-13</th>\n",
       "      <td>19.00</td>\n",
       "      <td>19.31</td>\n",
       "      <td>18.49</td>\n",
       "      <td>18.92</td>\n",
       "      <td>31335900</td>\n",
       "      <td>0</td>\n",
       "      <td>0</td>\n",
       "    </tr>\n",
       "    <tr>\n",
       "      <th>2021-10-14</th>\n",
       "      <td>19.80</td>\n",
       "      <td>19.81</td>\n",
       "      <td>18.95</td>\n",
       "      <td>19.62</td>\n",
       "      <td>33739248</td>\n",
       "      <td>0</td>\n",
       "      <td>0</td>\n",
       "    </tr>\n",
       "  </tbody>\n",
       "</table>\n",
       "</div>"
      ],
      "text/plain": [
       "             Open   High    Low  Close    Volume  Dividends  Stock Splits\n",
       "Date                                                                     \n",
       "2021-10-08  16.53  16.65  16.17  16.21  11010000          0             0\n",
       "2021-10-11  16.90  18.51  16.83  18.39  69669600          0             0\n",
       "2021-10-12  18.17  19.02  17.84  18.97  47239700          0             0\n",
       "2021-10-13  19.00  19.31  18.49  18.92  31335900          0             0\n",
       "2021-10-14  19.80  19.81  18.95  19.62  33739248          0             0"
      ]
     },
     "execution_count": 33,
     "metadata": {},
     "output_type": "execute_result"
    }
   ],
   "source": [
    "company = \"SoFi\"\n",
    "\n",
    "ticker = \"sofi\"\n",
    "ticker = ticker.upper()\n",
    "\n",
    "entity = yf.Ticker(ticker)\n",
    "\n",
    "hist = entity.history(period=\"5d\")\n",
    "\n",
    "hist = hist.round(2)\n",
    "hist.head()"
   ]
  },
  {
   "cell_type": "code",
   "execution_count": 34,
   "metadata": {},
   "outputs": [
    {
     "name": "stdout",
     "output_type": "stream",
     "text": [
      "decreased by -12.59\n"
     ]
    }
   ],
   "source": [
    "# Volume vs 5 day average\n",
    "volume_avg = hist[\"Volume\"].sum()/hist[\"Volume\"].count()\n",
    "volume_avg = volume_avg.round(0)\n",
    "today_vol =  hist.iloc[-1, 4]\n",
    "pct_today_minus_avg = ((today_vol - volume_avg)/volume_avg) *100\n",
    "pct_today_minus_avg = pct_today_minus_avg.round(2)\n",
    "pct_today_minus_avg\n",
    "if pct_today_minus_avg > 0:\n",
    "    truthy0 = f\"increased by {pct_today_minus_avg}\"\n",
    "    print (truthy0)\n",
    "else:\n",
    "    truthy0 = (f\"decreased by {pct_today_minus_avg}\")\n",
    "    print (truthy0)"
   ]
  },
  {
   "cell_type": "code",
   "execution_count": 35,
   "metadata": {},
   "outputs": [
    {
     "name": "stdout",
     "output_type": "stream",
     "text": [
      "higher by 18.69\n"
     ]
    }
   ],
   "source": [
    "# 5 Day Performance\n",
    "current_price = hist.iloc[-1, 3]\n",
    "open_price1 = hist.iloc[0, 0]\n",
    "close_price1 = hist.iloc[-1, 3]\n",
    "pct_week_peformance =  ((close_price1 - open_price1) / open_price1) * 100\n",
    "pct_week_peformance = pct_week_peformance.round(2)\n",
    "pct_week_peformance\n",
    "if pct_week_peformance > 0:\n",
    "    truthy1 = f\"higher by {pct_week_peformance}\"\n",
    "    print (truthy1)\n",
    "else:\n",
    "    truthy1 = (f\"lower by {pct_week_peformance}\")\n",
    "    print (truthy1)"
   ]
  },
  {
   "cell_type": "code",
   "execution_count": 36,
   "metadata": {
    "jupyter": {
     "source_hidden": true
    }
   },
   "outputs": [
    {
     "name": "stdout",
     "output_type": "stream",
     "text": [
      "rose by -0.91\n"
     ]
    }
   ],
   "source": [
    "# Today Day Performance\n",
    "open_price = hist.iloc[-1, 0]\n",
    "close_price = hist.iloc[-1, 3]\n",
    "pct_day_peformance =  ((close_price - open_price) / open_price) * 100\n",
    "pct_day_peformance = pct_day_peformance.round(2)\n",
    "pct_day_peformance\n",
    "if pct_week_peformance > 0:\n",
    "    truthy2 = f\"rose by {pct_day_peformance}\"\n",
    "    print (truthy2)\n",
    "else:\n",
    "    truthy2 = (f\"fell by {pct_day_peformance}\")\n",
    "    print (truthy2)"
   ]
  },
  {
   "cell_type": "code",
   "execution_count": 37,
   "metadata": {
    "jupyter": {
     "source_hidden": true
    }
   },
   "outputs": [
    {
     "name": "stdout",
     "output_type": "stream",
     "text": [
      "Date\n",
      "2021-10-08    2.97\n",
      "2021-10-11    9.98\n",
      "2021-10-12    6.61\n",
      "2021-10-13    4.43\n",
      "2021-10-14    4.54\n",
      "dtype: float64\n"
     ]
    }
   ],
   "source": [
    "high = hist[\"High\"]\n",
    "low = hist[\"Low\"] \n",
    "def volatility_calc(high, low):\n",
    "    pct_change = ((high-low)/low) * 100\n",
    "    pct_change = pct_change.round(2)\n",
    "    return pct_change\n",
    "\n",
    "daily_vol = volatility_calc(high, low)\n",
    "print(daily_vol)"
   ]
  },
  {
   "cell_type": "code",
   "execution_count": 38,
   "metadata": {
    "jupyter": {
     "source_hidden": true
    }
   },
   "outputs": [
    {
     "name": "stdout",
     "output_type": "stream",
     "text": [
      "22.51 - Very volatile\n"
     ]
    }
   ],
   "source": [
    "high = hist[\"High\"].max()\n",
    "low = hist[\"Low\"].min()\n",
    "def volatility_calc(high, low):\n",
    "    pct_change = ((high-low)/low) * 100\n",
    "#     pct_change = pct_change.round(2)\n",
    "    return pct_change\n",
    "\n",
    "\n",
    "volatility = volatility_calc(high, low)\n",
    "volatility = math.floor(volatility*100)/100\n",
    "\n",
    "if volatility > 10:\n",
    "    truthy3 = f\"{volatility} - Very volatile\"\n",
    "    print(truthy3)\n",
    "elif volatility > 3:\n",
    "    truthy3 = f\"{volatility} - Decently volatile\"\n",
    "    print(truthy3)\n",
    "else:\n",
    "    truthy3 = f\"{volatility} -  Not that volatile\"\n",
    "    print(truthy3)"
   ]
  },
  {
   "cell_type": "code",
   "execution_count": 39,
   "metadata": {},
   "outputs": [],
   "source": [
    "first = f\"The company we are analysing is {company} (Ticker: {ticker}). The current price is ${current_price}.\"\n",
    "second = f\"{company} has an average volume of {volume_avg}, yet today it had a volume of {today_vol}. That means that the volume {truthy0}% compared to usual.\"\n",
    "third = f\"Compared to a week ago today, the company is trading {truthy1}%.\"\n",
    "fourth = f\"Today alone, the stock {
    
    
    
    
    
    
    
    
    
    
    
    
    
    
    2}%.\"\n",
    "fifth = f\"Volatility is an import factor to consider when investing. {company} has a volatility of {truthy3}.\""
   ]
  },
  {
   "cell_type": "code",
   "execution_count": 40,
   "metadata": {},
   "outputs": [
    {
     "name": "stdout",
     "output_type": "stream",
     "text": [
      "The company we are analysing is SoFi (Ticker: SOFI). The current price is $19.62.\n",
      "SoFi has an average volume of 38598890.0, yet today it had a volume of 33739248. That means that the volume decreased by -12.59% compared to usual.\n",
      "Compared to a week ago today, the company is trading higher by 18.69%.\n",
      "Today alone, the stock rose by rose by -0.91%.\n",
      "Volatility is an import factor to consider when investing. SoFi has a volatility of 22.51 - Very volatile.\n"
     ]
    }
   ],
   "source": [
    "print(first + \"\\n\" + second + \"\\n\" + third + \"\\n\" + fourth + \"\\n\" + fifth)"
   ]
  }
 ],
 "metadata": {
  "kernelspec": {
   "display_name": "Python 3",
   "language": "python",
   "name": "python3"
  },
  "language_info": {
   "codemirror_mode": {
    "name": "ipython",
    "version": 3
   },
   "file_extension": ".py",
   "mimetype": "text/x-python",
   "name": "python",
   "nbconvert_exporter": "python",
   "pygments_lexer": "ipython3",
   "version": "3.8.5"
  }
 },
 "nbformat": 4,
 "nbformat_minor": 4
}
